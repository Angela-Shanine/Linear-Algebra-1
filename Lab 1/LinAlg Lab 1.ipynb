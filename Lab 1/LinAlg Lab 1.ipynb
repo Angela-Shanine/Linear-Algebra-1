{
 "cells": [
  {
   "cell_type": "markdown",
   "metadata": {},
   "source": [
    "# Linear Algebra for CpE\n",
    "## Laboratory 1 : Setting up Anaconda and JupyterLab"
   ]
  },
  {
   "cell_type": "markdown",
   "metadata": {},
   "source": [
    "Wow! You have now successfully set up Jupyter Lab and Anaconda. Now don't worry if you don't know Python or using this file."
   ]
  },
  {
   "cell_type": "markdown",
   "metadata": {},
   "source": [
    "So first of all this file is called a Jupyter Notebook and we are organizing these notebooks with JupyterLab. All of these files in ipynb signfying it is an IPython notebook, an ineractive coding file."
   ]
  },
  {
   "cell_type": "markdown",
   "metadata": {},
   "source": [
    "### Parts"
   ]
  },
  {
   "cell_type": "markdown",
   "metadata": {},
   "source": [
    "We'll fill this up during the discussion"
   ]
  },
  {
   "cell_type": "markdown",
   "metadata": {},
   "source": [
    "### Cells"
   ]
  },
  {
   "cell_type": "markdown",
   "metadata": {},
   "source": [
    "Cells are very important elements in a jupyter notebook. There are three types of cell modes:\n",
    "<ul>\n",
    "    <li>Code — Code cells are input cells where you could type your code and run them <br>\n",
    "    <li>Markdown — are cells that does not run any code but could display text. These text can be formatted using HTML or LaTeX. <br>\n",
    "    <li>Raw — are cells that has no virtual use to our course, however it is used as an nbconvert command line. You can check it out more <a href=https://nbsphinx.readthedocs.io/en/0.3.1/raw-cells.html>here</a>. <br>\n",
    "</ul> \n",
    "\n",
    "For shortcuts you can check them out <a href=https://towardsdatascience.com/jypyter-notebook-shortcuts-bf0101a98330>here</a>."
   ]
  },
  {
   "cell_type": "markdown",
   "metadata": {},
   "source": [
    "### Programming Review"
   ]
  },
  {
   "cell_type": "markdown",
   "metadata": {},
   "source": [
    "#### Variable Declaration"
   ]
  },
  {
   "cell_type": "markdown",
   "metadata": {},
   "source": [
    "In Python, data types are explicit or automatically determined based on the value. However the basic data types are:\n",
    "<ul>\n",
    "    <li>Text: str\n",
    "    <li>Numeric: int, float, complex\n",
    "    <li>Sequence: list, tuple, range\n",
    "    <li>Boolean: bool\n",
    "</ul>   "
   ]
  },
  {
   "cell_type": "markdown",
   "metadata": {},
   "source": []
  },
  {
   "cell_type": "markdown",
   "metadata": {},
   "source": [
    "#### Input and Output"
   ]
  },
  {
   "cell_type": "code",
   "execution_count": null,
   "metadata": {},
   "outputs": [],
   "source": []
  },
  {
   "cell_type": "markdown",
   "metadata": {},
   "source": [
    "#### Loops"
   ]
  },
  {
   "cell_type": "code",
   "execution_count": null,
   "metadata": {},
   "outputs": [],
   "source": []
  },
  {
   "cell_type": "markdown",
   "metadata": {},
   "source": [
    "#### Flow Control"
   ]
  },
  {
   "cell_type": "code",
   "execution_count": null,
   "metadata": {},
   "outputs": [],
   "source": []
  },
  {
   "cell_type": "markdown",
   "metadata": {},
   "source": [
    "#### Functions"
   ]
  },
  {
   "cell_type": "code",
   "execution_count": null,
   "metadata": {},
   "outputs": [],
   "source": []
  }
 ],
 "metadata": {
  "kernelspec": {
   "display_name": "Python 3",
   "language": "python",
   "name": "python3"
  },
  "language_info": {
   "codemirror_mode": {
    "name": "ipython",
    "version": 3
   },
   "file_extension": ".py",
   "mimetype": "text/x-python",
   "name": "python",
   "nbconvert_exporter": "python",
   "pygments_lexer": "ipython3",
   "version": "3.8.3"
  }
 },
 "nbformat": 4,
 "nbformat_minor": 4
}
