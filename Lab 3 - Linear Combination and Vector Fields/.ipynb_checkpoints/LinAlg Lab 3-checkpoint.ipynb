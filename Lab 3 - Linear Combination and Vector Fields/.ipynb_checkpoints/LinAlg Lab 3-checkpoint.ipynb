{
 "cells": [
  {
   "cell_type": "markdown",
   "metadata": {},
   "source": [
    "# Linear Algebra for CpE\n",
    "## Laboratory 3 : Linear Combination and Vector Fields"
   ]
  },
  {
   "cell_type": "markdown",
   "metadata": {},
   "source": [
    "Now that you have a fundamental knowledge about linear combination, we'll try to visualize it using scientific programming."
   ]
  },
  {
   "cell_type": "markdown",
   "metadata": {},
   "source": [
    "### Objectives\n",
    "At the end of this activity you will be able to:\n",
    "1. Be familiar with representing linear combinations in the 2-dimensional plane.\n",
    "2. Visualize spans using vector fields in Python.\n",
    "3. Perform vector fields operations using scientific programming."
   ]
  },
  {
   "cell_type": "markdown",
   "metadata": {},
   "source": [
    "## Discussion"
   ]
  },
  {
   "cell_type": "code",
   "execution_count": null,
   "metadata": {},
   "outputs": [],
   "source": [
    "import numpy as np\n",
    "import matplotlib.pyplot as plt\n",
    "%matplotlib inline"
   ]
  },
  {
   "cell_type": "markdown",
   "metadata": {},
   "source": [
    "## Linear Combination"
   ]
  },
  {
   "cell_type": "markdown",
   "metadata": {},
   "source": [
    "It is said that a linear combination is the combination of linear scaling and addition of a vector its bases/components"
   ]
  },
  {
   "cell_type": "markdown",
   "metadata": {},
   "source": [
    "We will try to visualize the vectors and their linear combinations by plotting a sample of real number values for the scalars for the vectors. Let's first try the vectors below:"
   ]
  },
  {
   "cell_type": "markdown",
   "metadata": {},
   "source": [
    "$$X = \\begin{bmatrix} 2\\\\5 \\\\\\end{bmatrix} , Y = \\begin{bmatrix} 7\\\\9 \\\\\\end{bmatrix} $$"
   ]
  },
  {
   "cell_type": "code",
   "execution_count": null,
   "metadata": {},
   "outputs": [],
   "source": [
    "vectX =  np.array([2,5])\n",
    "vectY =  np.array([7,9])\n",
    "vectR = vectA + vectB"
   ]
  },
  {
   "cell_type": "markdown",
   "metadata": {},
   "source": [
    "#### Span of single vectors"
   ]
  },
  {
   "cell_type": "markdown",
   "metadata": {},
   "source": [
    "As discussed in the lecture, the span of individual vectors can be represented by a line span. Let's take vector $X$ as an example."
   ]
  },
  {
   "cell_type": "markdown",
   "metadata": {},
   "source": [
    "$$X = c\\cdot \\begin{bmatrix} 2\\\\5 \\\\\\end{bmatrix} $$"
   ]
  },
  {
   "cell_type": "code",
   "execution_count": null,
   "metadata": {},
   "outputs": [],
   "source": [
    "c = np.arange(-10,10,0.25)\n",
    "\n",
    "plt.scatter(c*vectX[0],c*vectX[1])\n",
    "\n",
    "\n",
    "plt.xlim(-10,10)\n",
    "plt.ylim(-10,10)\n",
    "plt.axhline(y=0, color='k')\n",
    "plt.axvline(x=0, color='k')\n",
    "plt.grid()\n",
    "plt.show()"
   ]
  },
  {
   "cell_type": "markdown",
   "metadata": {},
   "source": [
    "### Span of a linear combination of vectors"
   ]
  },
  {
   "cell_type": "markdown",
   "metadata": {},
   "source": [
    "So what if we are to plot the span of a linear combination of vectors? We can visualize as a plane on the 2-dimensional coordinate system. Let's take the span of the linear combination below:"
   ]
  },
  {
   "cell_type": "markdown",
   "metadata": {},
   "source": [
    "$$S = \\begin{Bmatrix} c_1 \\cdot\\begin{bmatrix} 1\\\\0 \\\\\\end{bmatrix}, \n",
    "c_2 \\cdot \\begin{bmatrix} 1\\\\-1 \\\\\\end{bmatrix}\\end{Bmatrix} $$"
   ]
  },
  {
   "cell_type": "code",
   "execution_count": null,
   "metadata": {},
   "outputs": [],
   "source": [
    "vectA = np.array([1,0])\n",
    "vectB = np.array([1,-1])\n",
    "R = np.arange(-10,10,1)\n",
    "c1, c2 = np.meshgrid(R,R)\n",
    "vectR = vectA + vectB\n",
    "spanRx = c1*vectA[0] + c2*vectB[0]\n",
    "spanRy = c1*vectA[1] + c2*vectB[1]\n",
    "# plt.scatter(R*vectA[0],R*vectA[1])\n",
    "plt.scatter(spanRx,spanRy, s=5, alpha=0.75)\n",
    "\n",
    "plt.axhline(y=0, color='k')\n",
    "plt.axvline(x=0, color='k')\n",
    "plt.grid()\n",
    "plt.show()"
   ]
  },
  {
   "cell_type": "markdown",
   "metadata": {},
   "source": [
    "Take note that if vectors are seen to be as a 2-dimensional span we can say it has a Rank of 2 or $\\mathbb{R}^2$. But if the span of the linear combination of vectors are seen to be like a line, they are said to be <b> linearly dependent </b> and they have a rank of 1 or $\\mathbb{R}^1$."
   ]
  }
 ],
 "metadata": {
  "kernelspec": {
   "display_name": "Python 3",
   "language": "python",
   "name": "python3"
  },
  "language_info": {
   "codemirror_mode": {
    "name": "ipython",
    "version": 3
   },
   "file_extension": ".py",
   "mimetype": "text/x-python",
   "name": "python",
   "nbconvert_exporter": "python",
   "pygments_lexer": "ipython3",
   "version": "3.8.3"
  }
 },
 "nbformat": 4,
 "nbformat_minor": 4
}
